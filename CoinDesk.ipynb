{
 "cells": [
  {
   "cell_type": "code",
   "execution_count": 1,
   "metadata": {
    "collapsed": true
   },
   "outputs": [],
   "source": [
    "import requests\n",
    "import pandas as pd\n",
    "from bs4 import BeautifulSoup"
   ]
  },
  {
   "cell_type": "code",
   "execution_count": 2,
   "outputs": [],
   "source": [
    "# get links for each categories\n",
    "def category_link():\n",
    "    url = 'http://books.toscrape.com/'\n",
    "    response = requests.get(\n",
    "    \"http://books.toscrape.com/index.html\")\n",
    "    soup = BeautifulSoup(response.text, \"html.parser\")\n",
    "    tag_name = 'li a'\n",
    "    articles = soup.select(tag_name)\n",
    "    category = {}\n",
    "    for art in articles:\n",
    "        category[art.text.strip()] = url + art['href']\n",
    "    return category"
   ],
   "metadata": {
    "collapsed": false,
    "pycharm": {
     "name": "#%%\n"
    }
   }
  },
  {
   "cell_type": "code",
   "execution_count": 3,
   "outputs": [],
   "source": [
    "# get links for each books\n",
    "def books_link(lookup,category):\n",
    "    books={}\n",
    "    for i in lookup:\n",
    "        url = category.get(i)\n",
    "        response = requests.get(url)\n",
    "        soup = BeautifulSoup(response.text, \"html.parser\")\n",
    "\n",
    "        tag_name = 'h3 a'\n",
    "        articles = soup.select(tag_name)\n",
    "\n",
    "        for art in articles:\n",
    "            books[art['title']] = ['http://books.toscrape.com/catalogue/' + art['href'][9:],i]\n",
    "\n",
    "    return books\n"
   ],
   "metadata": {
    "collapsed": false,
    "pycharm": {
     "name": "#%%\n"
    }
   }
  },
  {
   "cell_type": "code",
   "execution_count": 4,
   "outputs": [],
   "source": [
    "# get book description and column names\n",
    "def find_des(url):\n",
    "    response = requests.get(url)\n",
    "    soup = BeautifulSoup(response.text, \"html.parser\")\n",
    "    tag_name = 'p'\n",
    "    articles = soup.select(tag_name)\n",
    "    col=[]\n",
    "    for art in articles:\n",
    "        a = art.text\n",
    "        col.append(a)\n",
    "    prod_des = max(col,key=len)\n",
    "\n",
    "    tag_name = 'tr th'\n",
    "    articles = soup.select(tag_name)\n",
    "    col_name = []\n",
    "    for art in articles:\n",
    "        a=art.text\n",
    "        col_name.append(a)\n",
    "    col_name = ['Category'] + ['Book Name'] + col_name + ['Product Description']\n",
    "\n",
    "    return prod_des, col_name"
   ],
   "metadata": {
    "collapsed": false,
    "pycharm": {
     "name": "#%%\n"
    }
   }
  },
  {
   "cell_type": "code",
   "execution_count": 5,
   "outputs": [],
   "source": [
    "# get book info\n",
    "def find_info(books_titles):\n",
    "    des = []\n",
    "    for i in books_titles:\n",
    "        url = books.get(i)[0]\n",
    "        cat = books.get(i)[1]\n",
    "        response = requests.get(url)\n",
    "        soup = BeautifulSoup(response.text, \"html.parser\")\n",
    "\n",
    "        tag_name = 'tr td'\n",
    "        articles = soup.select(tag_name)\n",
    "\n",
    "        des_temp = []\n",
    "        for art in articles:\n",
    "            a= art.text\n",
    "            des_temp.append(a)\n",
    "        prod_des, col_name = find_des(url)\n",
    "        des_temp = [cat] + [i] + des_temp + [prod_des]\n",
    "        des.append(des_temp)\n",
    "    return des, col_name\n",
    "\n"
   ],
   "metadata": {
    "collapsed": false,
    "pycharm": {
     "name": "#%%\n"
    }
   }
  },
  {
   "cell_type": "code",
   "execution_count": 11,
   "outputs": [],
   "source": [
    "# Main\n",
    "lookup = ['Science' , 'Poetry']\n",
    "category = category_link()\n",
    "books = books_link(lookup,category)\n",
    "books_titles = list(books.keys())\n",
    "des, col_name = find_info(books_titles)\n",
    "\n",
    "# create a DataFrame and save as excel file\n",
    "df = pd.DataFrame(des,columns=col_name)\n",
    "df.to_excel('Report.xlsx')\n",
    "\n"
   ],
   "metadata": {
    "collapsed": false,
    "pycharm": {
     "name": "#%%\n"
    }
   }
  }
 ],
 "metadata": {
  "kernelspec": {
   "display_name": "Python 3",
   "language": "python",
   "name": "python3"
  },
  "language_info": {
   "codemirror_mode": {
    "name": "ipython",
    "version": 2
   },
   "file_extension": ".py",
   "mimetype": "text/x-python",
   "name": "python",
   "nbconvert_exporter": "python",
   "pygments_lexer": "ipython2",
   "version": "2.7.6"
  }
 },
 "nbformat": 4,
 "nbformat_minor": 0
}